{
 "cells": [
  {
   "cell_type": "code",
   "execution_count": 1,
   "metadata": {},
   "outputs": [],
   "source": [
    "import opensrane as opr"
   ]
  },
  {
   "cell_type": "markdown",
   "metadata": {},
   "source": [
    "## First Example (2 Symmetric Tanks)\n",
    "\n",
    "Because of the symmetry of the model, it is expected that resulted scenarios become compatible with each other and results also become symmetric.\n",
    "\n",
    "In this example data are recorded by recorder Object not with Objs_recorder"
   ]
  },
  {
   "cell_type": "code",
   "execution_count": 2,
   "metadata": {},
   "outputs": [
    {
     "name": "stderr",
     "output_type": "stream",
     "text": [
      "100%|██████████| 10000/10000 [00:20<00:00, 476.29it/s]\n"
     ]
    }
   ],
   "source": [
    "#Wipe the model to clear any created object if it is created before\n",
    "opr.wipe()\n",
    "\n",
    "#Define the recorder\n",
    "opr.Recorders.recorder(tag=1, filename='Recorder_ex1', fileAppend=False, recordfield='DamageLevel',)\n",
    "\n",
    "\n",
    "#Clear Warning File content\n",
    "opr.Misc.warningClear()\n",
    "\n",
    "\n",
    "#define Hazard Curve\n",
    "PGA=[1.4, 1.29984,1.27091,1.24865,1.22194,1.20191,1.17297,1.13959,1.11065,1.08172, \n",
    "     1.05501,1.03275,0.994913,0.961526,0.92814,0.899205,0.872496,0.843561,0.816852, \n",
    "     0.790143,0.761208,0.732273,0.696661,0.667727,0.636566,0.609857,0.589825,0.569793, \n",
    "     0.549762,0.525278,0.503021,0.48744,0.469634,0.451828,0.431797,0.409539,0.38283, \n",
    "     0.356121,0.338315,0.307154,0.280445,0.260413,0.23593,0.211447,0.17806,0.158029, \n",
    "     0.142448,0.126868,0.113514,0.0979332,0.0845787,0.0712242,0.0578696,0.0534181, \n",
    "     0.0489666,0.0445151,0.0356121,0.0356121,0.0311606, 0]\n",
    "PGA=[p*9.81 for p in PGA]\n",
    "\n",
    "Prob=[0, 0.000000446937,0.000000529832,0.000000607087,0.000000695608,0.000000824624,0.000000944864, \n",
    "      0.00000115888,0.00000137382,0.00000157414,0.0000019307,0.00000206667,0.00000262252,0.00000321654, \n",
    "      0.00000381312,0.00000452035,0.00000535876,0.00000657255,0.00000779158,0.00000955643,0.0000113289, \n",
    "      0.0000134301,0.0000176322,0.000021626,0.0000265244,0.0000325323,0.0000372759,0.0000441896,0.000050633, \n",
    "      0.0000621017,0.0000711569,0.0000843545,0.0000966544,0.000110748,0.000131288,0.000155639,0.0001975, \n",
    "      0.000259294,0.000318026,0.000403563,0.000548171,0.000744597,0.00104642,0.00152148,0.00253478,0.00356225, \n",
    "      0.00467682,0.00657255,0.00892769,0.0109499,0.0143759,0.0209024,0.0274425,0.0325323,0.0399011,0.048939, \n",
    "      0.060024,0.0687762,0.0843545, 0.9999]\n",
    "\n",
    "opr.Hazard.Earthquake(1,'PGA',PGA,Prob) #Create Hazard Object with tag=1 that is 0th Object\n",
    "\n",
    "#Define date time distribution\n",
    "opr.DateAndTime.DateTime(1,Day_Night_Ratio=2)\n",
    "\n",
    "#Define a simple windRose\n",
    "windobj=opr.WindData.WindRose(1)\n",
    "\n",
    "windobj.WindDayClassList=['F','D','D']  \n",
    "windobj.WindNightClassList=['F','D','D']\n",
    "\n",
    "windobj.AlphaCOEFlist=[0.6,0.25,0]\n",
    "\n",
    "windobj.DayWindSpeedList=[[1,5],[5,9],[9]]\n",
    "windobj.NightWindSpeedList=[[1,5],[5,9],[9]]\n",
    "\n",
    "windobj.DayWindFreqMatrix=[[0.5,0.5,0],\n",
    "                        [0.5,0.5,0],\n",
    "                        [0.5,0.5,0],\n",
    "                        [0.5,0.5,0],\n",
    "                          ]                                      \n",
    "windobj.NightWindFreqMatrix=windobj.DayWindFreqMatrix\n",
    "\n",
    "\n",
    "#Define Site Condition and Geometry\n",
    "SiteTAg=1\n",
    "opr.Sites.Site(SiteTAg, Temperature=25+273, Pressure=1*10**5, XSiteBoundary=[0,100,100,0], YSiteBoundary=[0,0,100,100], g=9.81)\n",
    "\n",
    "\n",
    "#Define Substances\n",
    "opr.Substance.DataBank.Butene(1) #Use DataBank to Load Material\n",
    "opr.Substance.ObjManager[1].Specific_Heat_of_Combustion=45.334*10**6\n",
    "\n",
    "#Define Fragilities\n",
    "opr.Fragilities.Fragility(tag=1,Distribution_Type='lognormal',modename='EBF',mean=0.8,StdDev=0.8)\n",
    "opr.Fragilities.Fragility(tag=2,Distribution_Type='lognormal',modename='GDF',mean=1.18,StdDev=0.61)\n",
    "\n",
    "#Define Probits\n",
    "Radiation=3\n",
    "opr.Fragilities.Probit(tag=Radiation, Distribution_Type='normal', K1=1.0, K2=-6.5,Scale_Factor=1500)\n",
    "\n",
    "#Define Outflow Models\n",
    "tag=1\n",
    "opr.OutFlowModel.TankHole(tag, Hole_Diameter=0.05, Hole_Height_FromBot=0, delta_t=500, Cd=1)\n",
    "opr.OutFlowModel.SimultaniousLiquid(2)\n",
    "\n",
    "#Define the DS_LOC for each Fragility\n",
    "opr.Connectors.DS_LOC(1,FragilityTag=1,OutFlowModelTagList=[2],LOCProbabilityList=[1])\n",
    "opr.Connectors.DS_LOC(2,FragilityTag=2,OutFlowModelTagList=[1],LOCProbabilityList=[1])\n",
    "\n",
    "#Define Dispesion Spread Models and their connections to the materials and outflows\n",
    "opr.DispersionSpreadModels.LiquidSpread(tag=1, MatTags=[1], OutFlowModelTags=[1,2],MinDisThickness=0.005,)\n",
    "\n",
    "#Define Physical Effect models\n",
    "opr.PhysicalEffect.fire_point_source(tag=1, minf=0.055, k=1.5)\n",
    "\n",
    "#Define OutFlow-Phisycal Effect connection\n",
    "opr.Connectors.Out_Physic(tag=3,OutFlowTag=1, MaterialsTagList=[1],PhysicalEffectTagList=[1],PhysProbabilityList=[1])\n",
    "opr.Connectors.Out_Physic(tag=4,OutFlowTag=2, MaterialsTagList=[1],PhysicalEffectTagList=[1],PhysProbabilityList=[1])\n",
    "\n",
    "#Define Probit - LOC loss of containment Connectors\n",
    "opr.Connectors.Pb_LOC(tag=5, ProbitTag=Radiation, OutFlowModelTagList=[1,2], LOCProbabilityList=[1,1])\n",
    "\n",
    "#Define Dike for Tanks\n",
    "opr.Safety.Dike(1,2,30**2)\n",
    "\n",
    "#Define Plant Units\n",
    "opr.PlantUnits.ONGStorage(tag=1, SiteTag=1, DikeTag=1, SubstanceTag=1, FragilityTagNumbers=[1,2], \n",
    "                          Horizontal_localPosition=0, Vertical_localPosition=0,\n",
    "                          Surface_Roughness=0.0001, Pressure=1.1*10**5, Temperature=25+273,\n",
    "                          SubstanceVolumeRatio=0.8, Diameter=10, Height=10, GroundTemperature=25+273,\n",
    "                          radiation_probit_tag=Radiation,)\n",
    "\n",
    "opr.PlantUnits.ONGStorage(tag=2, SiteTag=1, DikeTag=1, SubstanceTag=1, FragilityTagNumbers=[1,2], \n",
    "                          Horizontal_localPosition=40, Vertical_localPosition=0,\n",
    "                          Surface_Roughness=0.0001, Pressure=1.1*10**5, Temperature=25+273,\n",
    "                          SubstanceVolumeRatio=0.8, Diameter=10, Height=10, GroundTemperature=25+273,\n",
    "                          radiation_probit_tag=Radiation,)\n",
    "\n",
    "#Unit Analysis\n",
    "opr.Analyze.ScenarioAnalyze.MultiAnalysis(AnalysisNumber=10_000)\n",
    "\n"
   ]
  },
  {
   "cell_type": "code",
   "execution_count": 3,
   "metadata": {},
   "outputs": [
    {
     "name": "stderr",
     "output_type": "stream",
     "text": [
      "Plotting ONGStorage Tanks: 100%|██████████| 2/2 [00:00<00:00, 31.99it/s]\n",
      "Adding Units Data: 100%|██████████| 2/2 [00:00<?, ?it/s]\n",
      "Adding Vulnerables Area (NodesGroup): 0it [00:00, ?it/s]\n",
      "Adding Damage Levels: 0it [00:00, ?it/s]\n"
     ]
    },
    {
     "data": {
      "application/vnd.plotly.v1+json": {
       "config": {
        "plotlyServerURL": "https://plot.ly",
        "scrollZoom": true
       },
       "data": [
        {
         "hoverinfo": "text",
         "hoverlabel": {
          "bgcolor": "rgba(0, 0, 0, 1)",
          "bordercolor": "rgba(255, 0, 0, 1)",
          "font": {
           "color": "rgba(255, 255, 255, 1)",
           "family": "Balto",
           "size": 14
          }
         },
         "hovertext": "ONGStorage (tag= 1) and Substance= Butene (tag= 1)<br><br>Diameter= 10 \t <br>Damage Source= None \t <br>with Damage SourceTag= None \t <br>Damage Level= None, Damage Source Type= None, Damage Source Dose= None<br><br><br><br><br><br>",
         "legendgroup": "TanksData",
         "marker": {
          "color": "rgba(0, 0, 0,1)"
         },
         "mode": "markers",
         "name": "TanksData",
         "showlegend": false,
         "type": "scatter",
         "x": [
          0
         ],
         "y": [
          0
         ]
        },
        {
         "hoverinfo": "text",
         "hoverlabel": {
          "bgcolor": "rgba(0, 0, 0, 1)",
          "bordercolor": "rgba(255, 0, 0, 1)",
          "font": {
           "color": "rgba(255, 255, 255, 1)",
           "family": "Balto",
           "size": 14
          }
         },
         "hovertext": "ONGStorage (tag= 2) and Substance= Butene (tag= 1)<br><br>Diameter= 10 \t <br>Damage Source= None \t <br>with Damage SourceTag= None \t <br>Damage Level= None, Damage Source Type= None, Damage Source Dose= None<br><br><br><br><br><br>",
         "legendgroup": "TanksData",
         "marker": {
          "color": "rgba(0, 0, 0,1)"
         },
         "mode": "markers",
         "name": "TanksData",
         "showlegend": false,
         "type": "scatter",
         "x": [
          40
         ],
         "y": [
          0
         ]
        },
        {
         "legendgroup": "TanksData",
         "marker": {
          "color": "rgba(0, 0, 0,1)",
          "size": 8
         },
         "mode": "markers",
         "name": "TanksData",
         "showlegend": true,
         "type": "scatter",
         "x": [
          null
         ],
         "y": [
          null
         ]
        },
        {
         "legendgroup": "Liquid Dispersion",
         "line": {
          "color": "rgba(1, 1, 1,0.01)"
         },
         "mode": "lines",
         "name": "Liquid Dispersion",
         "showlegend": true,
         "type": "scatter",
         "visible": "legendonly",
         "x": [
          null
         ],
         "y": [
          null
         ]
        },
        {
         "legendgroup": "GasDispersions",
         "line": {
          "color": "rgba(250, 250, 5,1)"
         },
         "mode": "lines",
         "name": "GasDispersions",
         "showlegend": true,
         "type": "scatter",
         "visible": "legendonly",
         "x": [
          null
         ],
         "y": [
          null
         ]
        }
       ],
       "layout": {
        "height": 800,
        "plot_bgcolor": "white",
        "shapes": [
         {
          "fillcolor": "rgba(250, 250, 250,0.2)",
          "line": {
           "color": "rgba(0, 0, 0,1)"
          },
          "name": "ONGStorage",
          "type": "circle",
          "x0": -5,
          "x1": 5,
          "xref": "x",
          "y0": -5,
          "y1": 5,
          "yref": "y"
         },
         {
          "fillcolor": "rgba(250, 250, 250,0.2)",
          "line": {
           "color": "rgba(0, 0, 0,1)"
          },
          "name": "ONGStorage",
          "type": "circle",
          "x0": 35,
          "x1": 45,
          "xref": "x",
          "y0": -5,
          "y1": 5,
          "yref": "y"
         }
        ],
        "showlegend": true,
        "template": {
         "data": {
          "bar": [
           {
            "error_x": {
             "color": "#2a3f5f"
            },
            "error_y": {
             "color": "#2a3f5f"
            },
            "marker": {
             "line": {
              "color": "#E5ECF6",
              "width": 0.5
             },
             "pattern": {
              "fillmode": "overlay",
              "size": 10,
              "solidity": 0.2
             }
            },
            "type": "bar"
           }
          ],
          "barpolar": [
           {
            "marker": {
             "line": {
              "color": "#E5ECF6",
              "width": 0.5
             },
             "pattern": {
              "fillmode": "overlay",
              "size": 10,
              "solidity": 0.2
             }
            },
            "type": "barpolar"
           }
          ],
          "carpet": [
           {
            "aaxis": {
             "endlinecolor": "#2a3f5f",
             "gridcolor": "white",
             "linecolor": "white",
             "minorgridcolor": "white",
             "startlinecolor": "#2a3f5f"
            },
            "baxis": {
             "endlinecolor": "#2a3f5f",
             "gridcolor": "white",
             "linecolor": "white",
             "minorgridcolor": "white",
             "startlinecolor": "#2a3f5f"
            },
            "type": "carpet"
           }
          ],
          "choropleth": [
           {
            "colorbar": {
             "outlinewidth": 0,
             "ticks": ""
            },
            "type": "choropleth"
           }
          ],
          "contour": [
           {
            "colorbar": {
             "outlinewidth": 0,
             "ticks": ""
            },
            "colorscale": [
             [
              0,
              "#0d0887"
             ],
             [
              0.1111111111111111,
              "#46039f"
             ],
             [
              0.2222222222222222,
              "#7201a8"
             ],
             [
              0.3333333333333333,
              "#9c179e"
             ],
             [
              0.4444444444444444,
              "#bd3786"
             ],
             [
              0.5555555555555556,
              "#d8576b"
             ],
             [
              0.6666666666666666,
              "#ed7953"
             ],
             [
              0.7777777777777778,
              "#fb9f3a"
             ],
             [
              0.8888888888888888,
              "#fdca26"
             ],
             [
              1,
              "#f0f921"
             ]
            ],
            "type": "contour"
           }
          ],
          "contourcarpet": [
           {
            "colorbar": {
             "outlinewidth": 0,
             "ticks": ""
            },
            "type": "contourcarpet"
           }
          ],
          "heatmap": [
           {
            "colorbar": {
             "outlinewidth": 0,
             "ticks": ""
            },
            "colorscale": [
             [
              0,
              "#0d0887"
             ],
             [
              0.1111111111111111,
              "#46039f"
             ],
             [
              0.2222222222222222,
              "#7201a8"
             ],
             [
              0.3333333333333333,
              "#9c179e"
             ],
             [
              0.4444444444444444,
              "#bd3786"
             ],
             [
              0.5555555555555556,
              "#d8576b"
             ],
             [
              0.6666666666666666,
              "#ed7953"
             ],
             [
              0.7777777777777778,
              "#fb9f3a"
             ],
             [
              0.8888888888888888,
              "#fdca26"
             ],
             [
              1,
              "#f0f921"
             ]
            ],
            "type": "heatmap"
           }
          ],
          "heatmapgl": [
           {
            "colorbar": {
             "outlinewidth": 0,
             "ticks": ""
            },
            "colorscale": [
             [
              0,
              "#0d0887"
             ],
             [
              0.1111111111111111,
              "#46039f"
             ],
             [
              0.2222222222222222,
              "#7201a8"
             ],
             [
              0.3333333333333333,
              "#9c179e"
             ],
             [
              0.4444444444444444,
              "#bd3786"
             ],
             [
              0.5555555555555556,
              "#d8576b"
             ],
             [
              0.6666666666666666,
              "#ed7953"
             ],
             [
              0.7777777777777778,
              "#fb9f3a"
             ],
             [
              0.8888888888888888,
              "#fdca26"
             ],
             [
              1,
              "#f0f921"
             ]
            ],
            "type": "heatmapgl"
           }
          ],
          "histogram": [
           {
            "marker": {
             "pattern": {
              "fillmode": "overlay",
              "size": 10,
              "solidity": 0.2
             }
            },
            "type": "histogram"
           }
          ],
          "histogram2d": [
           {
            "colorbar": {
             "outlinewidth": 0,
             "ticks": ""
            },
            "colorscale": [
             [
              0,
              "#0d0887"
             ],
             [
              0.1111111111111111,
              "#46039f"
             ],
             [
              0.2222222222222222,
              "#7201a8"
             ],
             [
              0.3333333333333333,
              "#9c179e"
             ],
             [
              0.4444444444444444,
              "#bd3786"
             ],
             [
              0.5555555555555556,
              "#d8576b"
             ],
             [
              0.6666666666666666,
              "#ed7953"
             ],
             [
              0.7777777777777778,
              "#fb9f3a"
             ],
             [
              0.8888888888888888,
              "#fdca26"
             ],
             [
              1,
              "#f0f921"
             ]
            ],
            "type": "histogram2d"
           }
          ],
          "histogram2dcontour": [
           {
            "colorbar": {
             "outlinewidth": 0,
             "ticks": ""
            },
            "colorscale": [
             [
              0,
              "#0d0887"
             ],
             [
              0.1111111111111111,
              "#46039f"
             ],
             [
              0.2222222222222222,
              "#7201a8"
             ],
             [
              0.3333333333333333,
              "#9c179e"
             ],
             [
              0.4444444444444444,
              "#bd3786"
             ],
             [
              0.5555555555555556,
              "#d8576b"
             ],
             [
              0.6666666666666666,
              "#ed7953"
             ],
             [
              0.7777777777777778,
              "#fb9f3a"
             ],
             [
              0.8888888888888888,
              "#fdca26"
             ],
             [
              1,
              "#f0f921"
             ]
            ],
            "type": "histogram2dcontour"
           }
          ],
          "mesh3d": [
           {
            "colorbar": {
             "outlinewidth": 0,
             "ticks": ""
            },
            "type": "mesh3d"
           }
          ],
          "parcoords": [
           {
            "line": {
             "colorbar": {
              "outlinewidth": 0,
              "ticks": ""
             }
            },
            "type": "parcoords"
           }
          ],
          "pie": [
           {
            "automargin": true,
            "type": "pie"
           }
          ],
          "scatter": [
           {
            "fillpattern": {
             "fillmode": "overlay",
             "size": 10,
             "solidity": 0.2
            },
            "type": "scatter"
           }
          ],
          "scatter3d": [
           {
            "line": {
             "colorbar": {
              "outlinewidth": 0,
              "ticks": ""
             }
            },
            "marker": {
             "colorbar": {
              "outlinewidth": 0,
              "ticks": ""
             }
            },
            "type": "scatter3d"
           }
          ],
          "scattercarpet": [
           {
            "marker": {
             "colorbar": {
              "outlinewidth": 0,
              "ticks": ""
             }
            },
            "type": "scattercarpet"
           }
          ],
          "scattergeo": [
           {
            "marker": {
             "colorbar": {
              "outlinewidth": 0,
              "ticks": ""
             }
            },
            "type": "scattergeo"
           }
          ],
          "scattergl": [
           {
            "marker": {
             "colorbar": {
              "outlinewidth": 0,
              "ticks": ""
             }
            },
            "type": "scattergl"
           }
          ],
          "scattermapbox": [
           {
            "marker": {
             "colorbar": {
              "outlinewidth": 0,
              "ticks": ""
             }
            },
            "type": "scattermapbox"
           }
          ],
          "scatterpolar": [
           {
            "marker": {
             "colorbar": {
              "outlinewidth": 0,
              "ticks": ""
             }
            },
            "type": "scatterpolar"
           }
          ],
          "scatterpolargl": [
           {
            "marker": {
             "colorbar": {
              "outlinewidth": 0,
              "ticks": ""
             }
            },
            "type": "scatterpolargl"
           }
          ],
          "scatterternary": [
           {
            "marker": {
             "colorbar": {
              "outlinewidth": 0,
              "ticks": ""
             }
            },
            "type": "scatterternary"
           }
          ],
          "surface": [
           {
            "colorbar": {
             "outlinewidth": 0,
             "ticks": ""
            },
            "colorscale": [
             [
              0,
              "#0d0887"
             ],
             [
              0.1111111111111111,
              "#46039f"
             ],
             [
              0.2222222222222222,
              "#7201a8"
             ],
             [
              0.3333333333333333,
              "#9c179e"
             ],
             [
              0.4444444444444444,
              "#bd3786"
             ],
             [
              0.5555555555555556,
              "#d8576b"
             ],
             [
              0.6666666666666666,
              "#ed7953"
             ],
             [
              0.7777777777777778,
              "#fb9f3a"
             ],
             [
              0.8888888888888888,
              "#fdca26"
             ],
             [
              1,
              "#f0f921"
             ]
            ],
            "type": "surface"
           }
          ],
          "table": [
           {
            "cells": {
             "fill": {
              "color": "#EBF0F8"
             },
             "line": {
              "color": "white"
             }
            },
            "header": {
             "fill": {
              "color": "#C8D4E3"
             },
             "line": {
              "color": "white"
             }
            },
            "type": "table"
           }
          ]
         },
         "layout": {
          "annotationdefaults": {
           "arrowcolor": "#2a3f5f",
           "arrowhead": 0,
           "arrowwidth": 1
          },
          "autotypenumbers": "strict",
          "coloraxis": {
           "colorbar": {
            "outlinewidth": 0,
            "ticks": ""
           }
          },
          "colorscale": {
           "diverging": [
            [
             0,
             "#8e0152"
            ],
            [
             0.1,
             "#c51b7d"
            ],
            [
             0.2,
             "#de77ae"
            ],
            [
             0.3,
             "#f1b6da"
            ],
            [
             0.4,
             "#fde0ef"
            ],
            [
             0.5,
             "#f7f7f7"
            ],
            [
             0.6,
             "#e6f5d0"
            ],
            [
             0.7,
             "#b8e186"
            ],
            [
             0.8,
             "#7fbc41"
            ],
            [
             0.9,
             "#4d9221"
            ],
            [
             1,
             "#276419"
            ]
           ],
           "sequential": [
            [
             0,
             "#0d0887"
            ],
            [
             0.1111111111111111,
             "#46039f"
            ],
            [
             0.2222222222222222,
             "#7201a8"
            ],
            [
             0.3333333333333333,
             "#9c179e"
            ],
            [
             0.4444444444444444,
             "#bd3786"
            ],
            [
             0.5555555555555556,
             "#d8576b"
            ],
            [
             0.6666666666666666,
             "#ed7953"
            ],
            [
             0.7777777777777778,
             "#fb9f3a"
            ],
            [
             0.8888888888888888,
             "#fdca26"
            ],
            [
             1,
             "#f0f921"
            ]
           ],
           "sequentialminus": [
            [
             0,
             "#0d0887"
            ],
            [
             0.1111111111111111,
             "#46039f"
            ],
            [
             0.2222222222222222,
             "#7201a8"
            ],
            [
             0.3333333333333333,
             "#9c179e"
            ],
            [
             0.4444444444444444,
             "#bd3786"
            ],
            [
             0.5555555555555556,
             "#d8576b"
            ],
            [
             0.6666666666666666,
             "#ed7953"
            ],
            [
             0.7777777777777778,
             "#fb9f3a"
            ],
            [
             0.8888888888888888,
             "#fdca26"
            ],
            [
             1,
             "#f0f921"
            ]
           ]
          },
          "colorway": [
           "#636efa",
           "#EF553B",
           "#00cc96",
           "#ab63fa",
           "#FFA15A",
           "#19d3f3",
           "#FF6692",
           "#B6E880",
           "#FF97FF",
           "#FECB52"
          ],
          "font": {
           "color": "#2a3f5f"
          },
          "geo": {
           "bgcolor": "white",
           "lakecolor": "white",
           "landcolor": "#E5ECF6",
           "showlakes": true,
           "showland": true,
           "subunitcolor": "white"
          },
          "hoverlabel": {
           "align": "left"
          },
          "hovermode": "closest",
          "mapbox": {
           "style": "light"
          },
          "paper_bgcolor": "white",
          "plot_bgcolor": "#E5ECF6",
          "polar": {
           "angularaxis": {
            "gridcolor": "white",
            "linecolor": "white",
            "ticks": ""
           },
           "bgcolor": "#E5ECF6",
           "radialaxis": {
            "gridcolor": "white",
            "linecolor": "white",
            "ticks": ""
           }
          },
          "scene": {
           "xaxis": {
            "backgroundcolor": "#E5ECF6",
            "gridcolor": "white",
            "gridwidth": 2,
            "linecolor": "white",
            "showbackground": true,
            "ticks": "",
            "zerolinecolor": "white"
           },
           "yaxis": {
            "backgroundcolor": "#E5ECF6",
            "gridcolor": "white",
            "gridwidth": 2,
            "linecolor": "white",
            "showbackground": true,
            "ticks": "",
            "zerolinecolor": "white"
           },
           "zaxis": {
            "backgroundcolor": "#E5ECF6",
            "gridcolor": "white",
            "gridwidth": 2,
            "linecolor": "white",
            "showbackground": true,
            "ticks": "",
            "zerolinecolor": "white"
           }
          },
          "shapedefaults": {
           "line": {
            "color": "#2a3f5f"
           }
          },
          "ternary": {
           "aaxis": {
            "gridcolor": "white",
            "linecolor": "white",
            "ticks": ""
           },
           "baxis": {
            "gridcolor": "white",
            "linecolor": "white",
            "ticks": ""
           },
           "bgcolor": "#E5ECF6",
           "caxis": {
            "gridcolor": "white",
            "linecolor": "white",
            "ticks": ""
           }
          },
          "title": {
           "x": 0.05
          },
          "xaxis": {
           "automargin": true,
           "gridcolor": "white",
           "linecolor": "white",
           "ticks": "",
           "title": {
            "standoff": 15
           },
           "zerolinecolor": "white",
           "zerolinewidth": 2
          },
          "yaxis": {
           "automargin": true,
           "gridcolor": "white",
           "linecolor": "white",
           "ticks": "",
           "title": {
            "standoff": 15
           },
           "zerolinecolor": "white",
           "zerolinewidth": 2
          }
         }
        },
        "title": {
         "font": {
          "color": "black",
          "size": 25
         },
         "text": "Plant Units",
         "x": 0.15,
         "xanchor": "center",
         "y": 0.92,
         "yanchor": "top"
        },
        "width": 1000,
        "xaxis": {
         "linecolor": "black",
         "linewidth": 2,
         "range": [
          -7.5,
          47.5
         ],
         "showline": true,
         "title": {
          "font": {
           "color": "black",
           "family": "Courier",
           "size": 18
          },
          "text": "x"
         }
        },
        "yaxis": {
         "linecolor": "black",
         "linewidth": 2,
         "range": [
          -22,
          22
         ],
         "showline": true,
         "title": {
          "font": {
           "color": "black",
           "family": "Courier",
           "size": 18
          },
          "text": "y"
         }
        }
       }
      }
     },
     "metadata": {},
     "output_type": "display_data"
    }
   ],
   "source": [
    "#Plot the model\n",
    "opr.Plot.Plotly.PlotUnits2D(PlotMode=1)"
   ]
  },
  {
   "cell_type": "code",
   "execution_count": 4,
   "metadata": {},
   "outputs": [
    {
     "name": "stdout",
     "output_type": "stream",
     "text": [
      "filename: Recorder_ex1.OPRrec loaded. \n",
      "\n",
      " Recorder Scenarios in Damage level 0 = {'(0):[1,2]', '(0):[1]', '(0):[2]'} \n",
      "\n",
      "Probability of Scenario (0):[1,2] is equal: 0.0019\n",
      "Probability of Scenario (0):[1] is equal: 0.006\n",
      "Probability of Scenario (0):[2] is equal: 0.0058\n"
     ]
    }
   ],
   "source": [
    "#Post Process\n",
    "Results=opr.PostProcess.RecorderPP.Analyze(['Recorder_ex1.OPRrec'])\n",
    "\n",
    "DM0Scen=Results['Damagelevel_Scenario_Dict'][0]\n",
    "ScenProb=Results['ScenariosProbability']\n",
    "print('\\n\\n','Recorder Scenarios in Damage level 0 =',DM0Scen,'\\n')\n",
    "\n",
    "for Scenario in DM0Scen:\n",
    "    print(f'Probability of Scenario {Scenario} is equal: {ScenProb[Scenario]}')"
   ]
  },
  {
   "attachments": {},
   "cell_type": "markdown",
   "metadata": {},
   "source": [
    "As it is seen in the above results, as we expected, the resulted scenarios are also symmetric. Obviously by increasing the number of the analysis, the probability of scenario (0)-[1] become closer to (0)-[2]"
   ]
  }
 ],
 "metadata": {
  "kernelspec": {
   "display_name": "Python 3",
   "language": "python",
   "name": "python3"
  },
  "language_info": {
   "codemirror_mode": {
    "name": "ipython",
    "version": 3
   },
   "file_extension": ".py",
   "mimetype": "text/x-python",
   "name": "python",
   "nbconvert_exporter": "python",
   "pygments_lexer": "ipython3",
   "version": "3.9.13"
  },
  "orig_nbformat": 4
 },
 "nbformat": 4,
 "nbformat_minor": 2
}
